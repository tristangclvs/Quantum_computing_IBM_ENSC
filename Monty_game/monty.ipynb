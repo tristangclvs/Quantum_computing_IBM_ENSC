{
 "cells": [
  {
   "cell_type": "markdown",
   "metadata": {},
   "source": [
    "# Let's Make a Deal !"
   ]
  },
  {
   "cell_type": "code",
   "execution_count": 2,
   "metadata": {},
   "outputs": [],
   "source": [
    "import random as rd"
   ]
  },
  {
   "cell_type": "code",
   "execution_count": null,
   "metadata": {},
   "outputs": [],
   "source": [
    "def play_games_random(nb_games : int =1000) -> int:\n",
    "    wins = 0\n",
    "    for i in range(nb_games) :\n",
    "        winning_door = rd.randint(0,2)\n",
    "        player_choice = rd.randint(0,2) \n",
    "        if winning_door == player_choice:      \n",
    "            wins +=1  \n",
    "    return wins\n",
    "\n",
    "print(play_games_random())"
   ]
  },
  {
   "cell_type": "code",
   "execution_count": null,
   "metadata": {},
   "outputs": [],
   "source": [
    "exclude_number = lambda liste, nb_to_exclude : [x for x in liste if x!= nb_to_exclude] \n",
    "\n",
    "def play_games_random_2(nb_games : int =1000) -> int:\n",
    "    wins = 0 \n",
    "    choices = [0, 1, 2] \n",
    "    for i in range(nb_games) : \n",
    "        winning_door = rd.randint(0,2)\n",
    "        player_choice = rd.randint(0,2) \n",
    "        if winning_door == player_choice:\n",
    "            possible_choices = exclude_number(choices, winning_door)\n",
    "            open_door = rd.choice(possible_choices)\n",
    "\n",
    "play_games_random_2()"
   ]
  },
  {
   "cell_type": "code",
   "execution_count": 36,
   "metadata": {},
   "outputs": [],
   "source": [
    "exclude_numbers = lambda liste, list_to_exclude : [x for x in liste if x not in list_to_exclude] \n",
    "def play_games_random_3(nb_games : int =1000) -> int:\n",
    "    wins = 0\n",
    "    choices = [0, 1, 2]\n",
    "    for i in range(nb_games) :\n",
    "        winning_door = rd.randint(0,2)\n",
    "        player_choice = rd.randint(0,2) \n",
    "        if winning_door == player_choice:\n",
    "            possible_choices = exclude_number(choices, winning_door)\n",
    "            open_door = rd.choice(possible_choices)\n",
    "        else :\n",
    "            open_door = exclude_numbers(choices, [winning_door, player_choice])[0]\n",
    "            \n",
    "\n",
    "play_games_random_3()"
   ]
  },
  {
   "cell_type": "code",
   "execution_count": null,
   "metadata": {},
   "outputs": [],
   "source": []
  }
 ],
 "metadata": {
  "kernelspec": {
   "display_name": "Python 3.10.5 ('.venv': venv)",
   "language": "python",
   "name": "python3"
  },
  "language_info": {
   "codemirror_mode": {
    "name": "ipython",
    "version": 3
   },
   "file_extension": ".py",
   "mimetype": "text/x-python",
   "name": "python",
   "nbconvert_exporter": "python",
   "pygments_lexer": "ipython3",
   "version": "3.10.5"
  },
  "orig_nbformat": 4,
  "vscode": {
   "interpreter": {
    "hash": "06d1c6b8848ddfa1c6df0a55bb4bfafa4824715063634854ce396d7ecf288a91"
   }
  }
 },
 "nbformat": 4,
 "nbformat_minor": 2
}
